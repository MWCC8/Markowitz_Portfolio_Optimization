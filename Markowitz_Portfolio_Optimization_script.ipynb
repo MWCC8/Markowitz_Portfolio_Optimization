{
 "cells": [
  {
   "cell_type": "markdown",
   "id": "c8083d99",
   "metadata": {},
   "source": [
    "# Assignment 3: NLP \n",
    "\n",
    "# By: Michael Church Carson (260683849)\n"
   ]
  },
  {
   "cell_type": "markdown",
   "id": "bab97923",
   "metadata": {},
   "source": [
    "## import packages"
   ]
  },
  {
   "cell_type": "code",
   "execution_count": 1,
   "id": "158bc953",
   "metadata": {},
   "outputs": [],
   "source": [
    "import gurobipy as gp\n",
    "from gurobipy import GRB\n",
    "from gurobipy import *\n",
    "from math import sqrt\n",
    "import pandas as pd\n",
    "import numpy as np"
   ]
  },
  {
   "cell_type": "markdown",
   "id": "224e5873",
   "metadata": {},
   "source": [
    "## Problem 1 The Markowitz Problem"
   ]
  },
  {
   "cell_type": "markdown",
   "id": "04b9f002",
   "metadata": {},
   "source": [
    "## import problem data"
   ]
  },
  {
   "cell_type": "code",
   "execution_count": 2,
   "id": "e628e062",
   "metadata": {},
   "outputs": [
    {
     "data": {
      "text/html": [
       "<div>\n",
       "<style scoped>\n",
       "    .dataframe tbody tr th:only-of-type {\n",
       "        vertical-align: middle;\n",
       "    }\n",
       "\n",
       "    .dataframe tbody tr th {\n",
       "        vertical-align: top;\n",
       "    }\n",
       "\n",
       "    .dataframe thead th {\n",
       "        text-align: right;\n",
       "    }\n",
       "</style>\n",
       "<table border=\"1\" class=\"dataframe\">\n",
       "  <thead>\n",
       "    <tr style=\"text-align: right;\">\n",
       "      <th></th>\n",
       "      <th>FTSE 100 ERoR</th>\n",
       "      <th>DAX ERoR</th>\n",
       "      <th>DJIA ERoR</th>\n",
       "      <th>DJ Asian Titans 50 ERoR</th>\n",
       "      <th>Russell 2000 ERoR</th>\n",
       "    </tr>\n",
       "  </thead>\n",
       "  <tbody>\n",
       "    <tr>\n",
       "      <th>0</th>\n",
       "      <td>0.069488</td>\n",
       "      <td>0.640171</td>\n",
       "      <td>0.693084</td>\n",
       "      <td>-0.107527</td>\n",
       "      <td>0.687519</td>\n",
       "    </tr>\n",
       "  </tbody>\n",
       "</table>\n",
       "</div>"
      ],
      "text/plain": [
       "   FTSE 100 ERoR  DAX ERoR  DJIA ERoR  DJ Asian Titans 50 ERoR  \\\n",
       "0       0.069488  0.640171   0.693084                -0.107527   \n",
       "\n",
       "   Russell 2000 ERoR  \n",
       "0           0.687519  "
      ]
     },
     "execution_count": 2,
     "metadata": {},
     "output_type": "execute_result"
    }
   ],
   "source": [
    "Expected_RoRs = pd.read_excel('Markowitz.xlsx', sheet_name='Markowitz',usecols = 'L:P', nrows = 1)\n",
    "Expected_RoRs"
   ]
  },
  {
   "cell_type": "code",
   "execution_count": 3,
   "id": "897694bd",
   "metadata": {},
   "outputs": [
    {
     "data": {
      "text/html": [
       "<div>\n",
       "<style scoped>\n",
       "    .dataframe tbody tr th:only-of-type {\n",
       "        vertical-align: middle;\n",
       "    }\n",
       "\n",
       "    .dataframe tbody tr th {\n",
       "        vertical-align: top;\n",
       "    }\n",
       "\n",
       "    .dataframe thead th {\n",
       "        text-align: right;\n",
       "    }\n",
       "</style>\n",
       "<table border=\"1\" class=\"dataframe\">\n",
       "  <thead>\n",
       "    <tr style=\"text-align: right;\">\n",
       "      <th></th>\n",
       "      <th>FTSE 100 SD</th>\n",
       "      <th>DAX SD</th>\n",
       "      <th>DJIA SD</th>\n",
       "      <th>DJ Asian Titans 50 SD</th>\n",
       "      <th>Russell 2000 SD</th>\n",
       "    </tr>\n",
       "  </thead>\n",
       "  <tbody>\n",
       "    <tr>\n",
       "      <th>0</th>\n",
       "      <td>3.254885</td>\n",
       "      <td>5.286076</td>\n",
       "      <td>3.288999</td>\n",
       "      <td>4.522306</td>\n",
       "      <td>4.633412</td>\n",
       "    </tr>\n",
       "  </tbody>\n",
       "</table>\n",
       "</div>"
      ],
      "text/plain": [
       "   FTSE 100 SD    DAX SD   DJIA SD  DJ Asian Titans 50 SD  Russell 2000 SD\n",
       "0     3.254885  5.286076  3.288999               4.522306         4.633412"
      ]
     },
     "execution_count": 3,
     "metadata": {},
     "output_type": "execute_result"
    }
   ],
   "source": [
    "SD_of_Returns = pd.read_excel('Markowitz.xlsx', sheet_name='Markowitz',usecols = 'Q:U', nrows = 1)\n",
    "SD_of_Returns"
   ]
  },
  {
   "cell_type": "code",
   "execution_count": 4,
   "id": "7e8ef1a8",
   "metadata": {},
   "outputs": [
    {
     "data": {
      "text/html": [
       "<div>\n",
       "<style scoped>\n",
       "    .dataframe tbody tr th:only-of-type {\n",
       "        vertical-align: middle;\n",
       "    }\n",
       "\n",
       "    .dataframe tbody tr th {\n",
       "        vertical-align: top;\n",
       "    }\n",
       "\n",
       "    .dataframe thead th {\n",
       "        text-align: right;\n",
       "    }\n",
       "</style>\n",
       "<table border=\"1\" class=\"dataframe\">\n",
       "  <thead>\n",
       "    <tr style=\"text-align: right;\">\n",
       "      <th></th>\n",
       "      <th>FTSE 100</th>\n",
       "      <th>DAX</th>\n",
       "      <th>DJIA</th>\n",
       "      <th>DJ Asian Titans 50</th>\n",
       "      <th>Russell 2000</th>\n",
       "    </tr>\n",
       "  </thead>\n",
       "  <tbody>\n",
       "    <tr>\n",
       "      <th>0</th>\n",
       "      <td>1.000000</td>\n",
       "      <td>0.755267</td>\n",
       "      <td>0.772833</td>\n",
       "      <td>0.687467</td>\n",
       "      <td>0.649829</td>\n",
       "    </tr>\n",
       "    <tr>\n",
       "      <th>1</th>\n",
       "      <td>0.755267</td>\n",
       "      <td>1.000000</td>\n",
       "      <td>0.703816</td>\n",
       "      <td>0.668050</td>\n",
       "      <td>0.694259</td>\n",
       "    </tr>\n",
       "    <tr>\n",
       "      <th>2</th>\n",
       "      <td>0.772833</td>\n",
       "      <td>0.703816</td>\n",
       "      <td>1.000000</td>\n",
       "      <td>0.721454</td>\n",
       "      <td>0.848499</td>\n",
       "    </tr>\n",
       "    <tr>\n",
       "      <th>3</th>\n",
       "      <td>0.687467</td>\n",
       "      <td>0.668050</td>\n",
       "      <td>0.721454</td>\n",
       "      <td>1.000000</td>\n",
       "      <td>0.670301</td>\n",
       "    </tr>\n",
       "    <tr>\n",
       "      <th>4</th>\n",
       "      <td>0.649829</td>\n",
       "      <td>0.694259</td>\n",
       "      <td>0.848499</td>\n",
       "      <td>0.670301</td>\n",
       "      <td>1.000000</td>\n",
       "    </tr>\n",
       "  </tbody>\n",
       "</table>\n",
       "</div>"
      ],
      "text/plain": [
       "   FTSE 100       DAX      DJIA  DJ Asian Titans 50  Russell 2000\n",
       "0  1.000000  0.755267  0.772833            0.687467      0.649829\n",
       "1  0.755267  1.000000  0.703816            0.668050      0.694259\n",
       "2  0.772833  0.703816  1.000000            0.721454      0.848499\n",
       "3  0.687467  0.668050  0.721454            1.000000      0.670301\n",
       "4  0.649829  0.694259  0.848499            0.670301      1.000000"
      ]
     },
     "execution_count": 4,
     "metadata": {},
     "output_type": "execute_result"
    }
   ],
   "source": [
    "Correlation = pd.read_excel('Markowitz.xlsx', sheet_name='CorrMatrix',usecols = 'A:E', nrows = 6)\n",
    "Correlation"
   ]
  },
  {
   "cell_type": "code",
   "execution_count": 5,
   "id": "e46f2cdc",
   "metadata": {},
   "outputs": [
    {
     "data": {
      "text/plain": [
       "array([[ 0.06948774,  0.64017118,  0.69308406, -0.10752718,  0.68751935]])"
      ]
     },
     "execution_count": 5,
     "metadata": {},
     "output_type": "execute_result"
    }
   ],
   "source": [
    "ER = np.array(Expected_RoRs)\n",
    "ER"
   ]
  },
  {
   "cell_type": "code",
   "execution_count": 6,
   "id": "94126e25",
   "metadata": {},
   "outputs": [
    {
     "data": {
      "text/plain": [
       "array([[3.25488488, 5.28607558, 3.28899906, 4.52230619, 4.63341247]])"
      ]
     },
     "execution_count": 6,
     "metadata": {},
     "output_type": "execute_result"
    }
   ],
   "source": [
    "SD = np.array(SD_of_Returns)\n",
    "SD"
   ]
  },
  {
   "cell_type": "code",
   "execution_count": 7,
   "id": "2b960900",
   "metadata": {},
   "outputs": [
    {
     "data": {
      "text/plain": [
       "array([[1.        , 0.75526686, 0.77283301, 0.68746749, 0.64982921],\n",
       "       [0.75526686, 1.        , 0.70381606, 0.66804974, 0.69425926],\n",
       "       [0.77283301, 0.70381606, 1.        , 0.72145449, 0.8484989 ],\n",
       "       [0.68746749, 0.66804974, 0.72145449, 1.        , 0.67030134],\n",
       "       [0.64982921, 0.69425926, 0.8484989 , 0.67030134, 1.        ]])"
      ]
     },
     "execution_count": 7,
     "metadata": {},
     "output_type": "execute_result"
    }
   ],
   "source": [
    "Corr = np.array(Correlation)\n",
    "Corr"
   ]
  },
  {
   "cell_type": "code",
   "execution_count": 8,
   "id": "3790f1fa",
   "metadata": {},
   "outputs": [],
   "source": [
    "Assets = [\"FTSE_100\",\"DAX\",\"DJIA\", \"DJ Asian Titans 50\", \"Russell 2000\"]\n",
    "a = len(Assets)"
   ]
  },
  {
   "cell_type": "code",
   "execution_count": 9,
   "id": "cb8165d6",
   "metadata": {},
   "outputs": [],
   "source": [
    "Cov_mat=(SD * Corr * SD)"
   ]
  },
  {
   "cell_type": "code",
   "execution_count": 10,
   "id": "399f3dfc",
   "metadata": {},
   "outputs": [
    {
     "data": {
      "text/plain": [
       "array([[10.59427558, 21.10411607,  8.36013255, 14.05957171, 13.95086562],\n",
       "       [ 8.00150528, 27.94259502,  7.61354061, 13.66245451, 14.90471256],\n",
       "       [ 8.18760592, 19.66644706, 10.81751479, 14.75464845, 18.21600805],\n",
       "       [ 7.28322001, 18.66704344,  7.80434458, 20.45125328, 14.39037175],\n",
       "       [ 6.88446974, 19.39940526,  9.1786494 , 13.70850248, 21.4685111 ]])"
      ]
     },
     "execution_count": 10,
     "metadata": {},
     "output_type": "execute_result"
    }
   ],
   "source": [
    "Cov_mat"
   ]
  },
  {
   "cell_type": "markdown",
   "id": "6e48ae16",
   "metadata": {},
   "source": [
    "## P1 (a)"
   ]
  },
  {
   "cell_type": "markdown",
   "id": "7e16f545",
   "metadata": {},
   "source": [
    "## Initiate Model"
   ]
  },
  {
   "cell_type": "code",
   "execution_count": 11,
   "id": "97e93a8d",
   "metadata": {},
   "outputs": [
    {
     "name": "stdout",
     "output_type": "stream",
     "text": [
      "Academic license - for non-commercial use only - expires 2022-09-24\n",
      "Using license file /Users/michaelchurchcarson/gurobi.lic\n"
     ]
    }
   ],
   "source": [
    "prob = gp.Model(\"Markowitz Problem.\")"
   ]
  },
  {
   "cell_type": "markdown",
   "id": "327e40ba",
   "metadata": {},
   "source": [
    "## Define the decision variables and the objective function"
   ]
  },
  {
   "cell_type": "code",
   "execution_count": 12,
   "id": "8e3f561d",
   "metadata": {},
   "outputs": [],
   "source": [
    "Vars=prob.addMVar(a,lb=0,vtype=GRB.CONTINUOUS,name=['portfolio proportion in_'+i for i in Assets])"
   ]
  },
  {
   "cell_type": "code",
   "execution_count": 13,
   "id": "18c98c01",
   "metadata": {},
   "outputs": [],
   "source": [
    "#Expected return of the portfolio\n",
    "P_ER=ER@Vars"
   ]
  },
  {
   "cell_type": "code",
   "execution_count": 14,
   "id": "e0a7b182",
   "metadata": {},
   "outputs": [],
   "source": [
    "#Variance of the portfolio\n",
    "P_Var=(Vars @ Cov_mat @ Vars)"
   ]
  },
  {
   "cell_type": "code",
   "execution_count": 15,
   "id": "127daf92",
   "metadata": {},
   "outputs": [],
   "source": [
    "prob.setObjective(P_Var,GRB.MINIMIZE)"
   ]
  },
  {
   "cell_type": "markdown",
   "id": "3528c241",
   "metadata": {},
   "source": [
    "## Define the contraints\n",
    "Introduce portflio allocation constraint - the sum of the the proportion invested in each asset must be 1, and\n",
    "introduce non-negativite return constraint."
   ]
  },
  {
   "cell_type": "code",
   "execution_count": 16,
   "id": "38b94c01",
   "metadata": {},
   "outputs": [
    {
     "data": {
      "text/plain": [
       "<(1,) matrix constraint *awaiting model update*>"
      ]
     },
     "execution_count": 16,
     "metadata": {},
     "output_type": "execute_result"
    }
   ],
   "source": [
    "prob.addConstr(sum(Vars) == 1)\n",
    "prob.addConstr(P_ER>=0)"
   ]
  },
  {
   "cell_type": "markdown",
   "id": "96ca08f4",
   "metadata": {},
   "source": [
    "## Find the optimal solution"
   ]
  },
  {
   "cell_type": "code",
   "execution_count": 17,
   "id": "12f126b8",
   "metadata": {},
   "outputs": [],
   "source": [
    "prob.setParam('OutputFlag', 0)\n",
    "prob.optimize()"
   ]
  },
  {
   "cell_type": "markdown",
   "id": "e47f43d1",
   "metadata": {},
   "source": [
    "## Show the optimal solution\n",
    "\n",
    "Recall: we minimized the variance of the portfolio, but we need to minimize standard deviation. Therefore, to get the optimal standard deviation value we take the square root of the optimal solution to our minimization problem."
   ]
  },
  {
   "cell_type": "code",
   "execution_count": 18,
   "id": "decfc0c6",
   "metadata": {},
   "outputs": [
    {
     "data": {
      "text/plain": [
       "3.0801494736128516"
      ]
     },
     "execution_count": 18,
     "metadata": {},
     "output_type": "execute_result"
    }
   ],
   "source": [
    "(prob.ObjVal)**0.5"
   ]
  },
  {
   "cell_type": "markdown",
   "id": "c0969352",
   "metadata": {},
   "source": [
    "## Show the optimal investment in each asset (index) to minimize risk (standard deviation)"
   ]
  },
  {
   "cell_type": "code",
   "execution_count": 19,
   "id": "97e989b4",
   "metadata": {},
   "outputs": [
    {
     "data": {
      "text/html": [
       "<div>\n",
       "<style scoped>\n",
       "    .dataframe tbody tr th:only-of-type {\n",
       "        vertical-align: middle;\n",
       "    }\n",
       "\n",
       "    .dataframe tbody tr th {\n",
       "        vertical-align: top;\n",
       "    }\n",
       "\n",
       "    .dataframe thead th {\n",
       "        text-align: right;\n",
       "    }\n",
       "</style>\n",
       "<table border=\"1\" class=\"dataframe\">\n",
       "  <thead>\n",
       "    <tr style=\"text-align: right;\">\n",
       "      <th></th>\n",
       "      <th>Minimum Risk Portfolio</th>\n",
       "    </tr>\n",
       "  </thead>\n",
       "  <tbody>\n",
       "    <tr>\n",
       "      <th>FTSE_100</th>\n",
       "      <td>5.229479e-01</td>\n",
       "    </tr>\n",
       "    <tr>\n",
       "      <th>DAX</th>\n",
       "      <td>2.941485e-12</td>\n",
       "    </tr>\n",
       "    <tr>\n",
       "      <th>DJIA</th>\n",
       "      <td>4.770521e-01</td>\n",
       "    </tr>\n",
       "    <tr>\n",
       "      <th>DJ Asian Titans 50</th>\n",
       "      <td>1.520668e-10</td>\n",
       "    </tr>\n",
       "    <tr>\n",
       "      <th>Russell 2000</th>\n",
       "      <td>1.779441e-11</td>\n",
       "    </tr>\n",
       "    <tr>\n",
       "      <th>Volatility</th>\n",
       "      <td>3.080149e+00</td>\n",
       "    </tr>\n",
       "  </tbody>\n",
       "</table>\n",
       "</div>"
      ],
      "text/plain": [
       "                    Minimum Risk Portfolio\n",
       "FTSE_100                      5.229479e-01\n",
       "DAX                           2.941485e-12\n",
       "DJIA                          4.770521e-01\n",
       "DJ Asian Titans 50            1.520668e-10\n",
       "Russell 2000                  1.779441e-11\n",
       "Volatility                    3.080149e+00"
      ]
     },
     "execution_count": 19,
     "metadata": {},
     "output_type": "execute_result"
    }
   ],
   "source": [
    "import pandas as pd\n",
    "Vars.X\n",
    "\n",
    "minrisk_volatility = (prob.ObjVal)**0.5\n",
    "pd.DataFrame(data=np.append(Vars.X, [minrisk_volatility]),\n",
    "             index=Assets + ['Volatility'],\n",
    "             columns=['Minimum Risk Portfolio'])"
   ]
  },
  {
   "cell_type": "markdown",
   "id": "f509d050",
   "metadata": {},
   "source": [
    "### Show the optimal investment in each asset (index) to minimize risk (standard deviation) and round the allocation so that the very small investments in DAX, DJ Asian Titans 50 and Russell 2000 show as zero (justification for this is provided in the report)"
   ]
  },
  {
   "cell_type": "code",
   "execution_count": 20,
   "id": "1990193d",
   "metadata": {},
   "outputs": [
    {
     "data": {
      "text/html": [
       "<div>\n",
       "<style scoped>\n",
       "    .dataframe tbody tr th:only-of-type {\n",
       "        vertical-align: middle;\n",
       "    }\n",
       "\n",
       "    .dataframe tbody tr th {\n",
       "        vertical-align: top;\n",
       "    }\n",
       "\n",
       "    .dataframe thead th {\n",
       "        text-align: right;\n",
       "    }\n",
       "</style>\n",
       "<table border=\"1\" class=\"dataframe\">\n",
       "  <thead>\n",
       "    <tr style=\"text-align: right;\">\n",
       "      <th></th>\n",
       "      <th>Minimum Risk Portfolio</th>\n",
       "    </tr>\n",
       "  </thead>\n",
       "  <tbody>\n",
       "    <tr>\n",
       "      <th>FTSE_100</th>\n",
       "      <td>52.290000</td>\n",
       "    </tr>\n",
       "    <tr>\n",
       "      <th>DAX</th>\n",
       "      <td>0.000000</td>\n",
       "    </tr>\n",
       "    <tr>\n",
       "      <th>DJIA</th>\n",
       "      <td>47.710000</td>\n",
       "    </tr>\n",
       "    <tr>\n",
       "      <th>DJ Asian Titans 50</th>\n",
       "      <td>0.000000</td>\n",
       "    </tr>\n",
       "    <tr>\n",
       "      <th>Russell 2000</th>\n",
       "      <td>0.000000</td>\n",
       "    </tr>\n",
       "    <tr>\n",
       "      <th>Volatility</th>\n",
       "      <td>3.080149</td>\n",
       "    </tr>\n",
       "  </tbody>\n",
       "</table>\n",
       "</div>"
      ],
      "text/plain": [
       "                    Minimum Risk Portfolio\n",
       "FTSE_100                         52.290000\n",
       "DAX                               0.000000\n",
       "DJIA                             47.710000\n",
       "DJ Asian Titans 50                0.000000\n",
       "Russell 2000                      0.000000\n",
       "Volatility                        3.080149"
      ]
     },
     "execution_count": 20,
     "metadata": {},
     "output_type": "execute_result"
    }
   ],
   "source": [
    "import pandas as pd\n",
    "Vars.X\n",
    "\n",
    "minrisk_volatility = (prob.ObjVal)**0.5\n",
    "pd.DataFrame(data=np.append((np.round(Vars.X,4))*100, [minrisk_volatility]),\n",
    "             index=Assets + ['Volatility'],\n",
    "             columns=['Minimum Risk Portfolio'])\n",
    "\n",
    "#print(Vars[i+1].varName,': ', round(Vars[i+1].x*100,2),'%')"
   ]
  },
  {
   "cell_type": "markdown",
   "id": "bbab28cc",
   "metadata": {},
   "source": [
    "## P1 (b)"
   ]
  },
  {
   "cell_type": "markdown",
   "id": "3edbfb23",
   "metadata": {},
   "source": [
    "### Re-import the data so that it can be imported without using matrices (arrays) because using the matrices from the P1 (a) was leading to complications with the new constraint we need for this problem to incorporate transaction costs"
   ]
  },
  {
   "cell_type": "code",
   "execution_count": 21,
   "id": "eaf05dc8",
   "metadata": {},
   "outputs": [],
   "source": [
    "# Import entire Markowitz excel as a dataframe \n",
    "data=pd.read_excel('Markowitz2.xlsx', sheet_name='Markowitz')\n",
    "\n",
    "# Clean and sort data in the dataframe\n",
    "data['Date']=pd.to_datetime(data['Date'], dayfirst=True)\n",
    "\n",
    "data=data.sort_values(by=['Date'],ignore_index=True)\n",
    "\n",
    "data.drop(data.columns[0], axis=1, inplace=True)\n",
    "\n",
    "\n",
    "#Recall\n",
    "#Assets = [\"FTSE_100\",\"DAX\",\"DJIA\", \"DJ Asian Titans 50\", \"Russell 2000\"]\n",
    "#a = len(Assets)"
   ]
  },
  {
   "cell_type": "markdown",
   "id": "482469b0",
   "metadata": {},
   "source": [
    "## Calculate rate of return (RoR)"
   ]
  },
  {
   "cell_type": "code",
   "execution_count": 22,
   "id": "5804d955",
   "metadata": {},
   "outputs": [],
   "source": [
    "RoR = pd.DataFrame(columns = data.columns)\n",
    "for colname in data.columns:\n",
    "    RoR[colname]=data[colname].pct_change()\n",
    "    \n",
    "RoR=RoR.drop(RoR.index[0]).reset_index()\n",
    "RoR.drop(RoR.columns[0], axis=1, inplace=True)"
   ]
  },
  {
   "cell_type": "code",
   "execution_count": 23,
   "id": "02a4369d",
   "metadata": {},
   "outputs": [],
   "source": [
    "# Rate of returns mean\n",
    "means={}\n",
    "i=1\n",
    "for colname in RoR.columns:\n",
    "    means[i]=RoR[colname].mean()\n",
    "    i=i+1\n",
    "# Rate of returns covariance matrix\n",
    "cov_mat=RoR.cov()\n",
    "\n",
    "# Now we annualize the means and covariance\n",
    "# Annual mean\n",
    "annual_mean={}\n",
    "for i in range(len(RoR.columns)):\n",
    "    annual_mean[i+1]=((1+means[i+1])**12)-1\n",
    "\n",
    "# Covariance\n",
    "annual_cov=cov_mat*12"
   ]
  },
  {
   "cell_type": "markdown",
   "id": "71bcb4f3",
   "metadata": {},
   "source": [
    "## Initiate Model"
   ]
  },
  {
   "cell_type": "code",
   "execution_count": 24,
   "id": "027d6bca",
   "metadata": {},
   "outputs": [],
   "source": [
    "prob1 = gp.Model(\"Markowitz Problem w Transaction Costs\")"
   ]
  },
  {
   "cell_type": "markdown",
   "id": "143842c1",
   "metadata": {},
   "source": [
    "## Define the decision variables"
   ]
  },
  {
   "cell_type": "code",
   "execution_count": 25,
   "id": "4eb667fe",
   "metadata": {},
   "outputs": [],
   "source": [
    "assets={}\n",
    "i=1\n",
    "for asset in RoR.columns:\n",
    "    assets[i]=prob1.addVar(lb = 0, ub=1, name = asset)\n",
    "    i=i+1\n",
    "\n",
    "# Introduce a DV to use in our objective functions\n",
    "X = prob1.addVar(lb = 0, name = 'Dummy')"
   ]
  },
  {
   "cell_type": "markdown",
   "id": "5d3c1dac",
   "metadata": {},
   "source": [
    "## Define the contraints"
   ]
  },
  {
   "cell_type": "code",
   "execution_count": 26,
   "id": "187a7a5f",
   "metadata": {},
   "outputs": [
    {
     "data": {
      "text/plain": [
       "<gurobi.QConstr Not Yet Added>"
      ]
     },
     "execution_count": 26,
     "metadata": {},
     "output_type": "execute_result"
    }
   ],
   "source": [
    "# Quadratic constraint\n",
    "prob1.addConstr((sum(assets[i+1]*assets[j+1]*annual_cov.iloc[i,j] for i in range(a) for j in range(a)))<=X)\n",
    "\n",
    "# Budget constraint\n",
    "prob1.addConstr((sum(assets[i+1] for i in range(a)))==1)\n",
    "\n",
    "# Non-negative return constraint\n",
    "prob1.addConstr((sum((assets[i+1]*annual_mean[i+1])-((assets[i+1]-0.20)*(assets[i+1]-0.20)) for i in range(a)))>=0)"
   ]
  },
  {
   "cell_type": "markdown",
   "id": "e6f00c3a",
   "metadata": {},
   "source": [
    "## Define the objective function"
   ]
  },
  {
   "cell_type": "code",
   "execution_count": 27,
   "id": "1e290c95",
   "metadata": {},
   "outputs": [],
   "source": [
    "exp = X\n",
    "prob1.setObjective(exp, GRB.MINIMIZE)"
   ]
  },
  {
   "cell_type": "markdown",
   "id": "bc0225e5",
   "metadata": {},
   "source": [
    "## Find the optimal solution"
   ]
  },
  {
   "cell_type": "code",
   "execution_count": 28,
   "id": "71c93574",
   "metadata": {},
   "outputs": [],
   "source": [
    "prob1.setParam('OutputFlag', 0)\n",
    "prob1.optimize()"
   ]
  },
  {
   "cell_type": "markdown",
   "id": "5cd2fb41",
   "metadata": {},
   "source": [
    "## Show the optimal solution"
   ]
  },
  {
   "cell_type": "code",
   "execution_count": 29,
   "id": "3ff0f856",
   "metadata": {},
   "outputs": [
    {
     "name": "stdout",
     "output_type": "stream",
     "text": [
      "\n",
      "The risk for the optimal solution is: 0.0137\n"
     ]
    }
   ],
   "source": [
    "print('\\nThe risk for the optimal solution is:',round(prob1.objVal,4))"
   ]
  },
  {
   "cell_type": "markdown",
   "id": "a00bcbc4",
   "metadata": {},
   "source": [
    "## Show the optimal investment in each asset (index) to minimize risk (standard deviation)"
   ]
  },
  {
   "cell_type": "code",
   "execution_count": 30,
   "id": "86d5ddf6",
   "metadata": {},
   "outputs": [
    {
     "name": "stdout",
     "output_type": "stream",
     "text": [
      "\n",
      "The optimal investement in each asset is:\n",
      "FTSE 100 :  31.11 %\n",
      "DAX :  7.84 %\n",
      "DJIA :  31.92 %\n",
      "DJ Asian Titans 50 :  14.34 %\n",
      "Russell 2000 :  14.79 %\n"
     ]
    }
   ],
   "source": [
    "print(\"\\nThe optimal investement in each asset is:\")\n",
    "for i in range(len(assets)):\n",
    "    print(assets[i+1].varName,': ', round(assets[i+1].x*100,2),'%')"
   ]
  },
  {
   "cell_type": "markdown",
   "id": "c0d39a37",
   "metadata": {},
   "source": [
    "## Problem 2 The CYCOM Corporation Problem"
   ]
  },
  {
   "cell_type": "markdown",
   "id": "82a32982",
   "metadata": {},
   "source": [
    "## P2 (a)"
   ]
  },
  {
   "cell_type": "markdown",
   "id": "9153ff32",
   "metadata": {},
   "source": [
    "## Initiate Model"
   ]
  },
  {
   "cell_type": "code",
   "execution_count": 52,
   "id": "5d9d3c83",
   "metadata": {},
   "outputs": [],
   "source": [
    "model = gp.Model(\"CYCOM Corp.\")"
   ]
  },
  {
   "cell_type": "markdown",
   "id": "c0e77a08",
   "metadata": {},
   "source": [
    "## Define the decision variables and the objective function"
   ]
  },
  {
   "cell_type": "code",
   "execution_count": 53,
   "id": "3181a83f",
   "metadata": {},
   "outputs": [],
   "source": [
    "x1 = model.addVar(vtype= GRB.CONTINUOUS, lb = 0, name = 'x1')\n",
    "x2 = model.addVar(vtype= GRB.CONTINUOUS, lb = 0, name = 'x2')\n",
    "x3 = model.addVar(vtype= GRB.CONTINUOUS, lb = 0, name = 'x3')\n",
    "x4 = model.addVar(vtype= GRB.CONTINUOUS, lb = 0, name = 'x4')\n",
    "x5 = model.addVar(vtype= GRB.CONTINUOUS, lb = 0, name = 'x5')\n",
    "x6 = model.addVar(vtype= GRB.CONTINUOUS, lb = 0, name = 'x6')\n",
    "\n",
    "p1 = model.addVar(vtype= GRB.CONTINUOUS, lb = 0, name = 'p1')\n",
    "p2 = model.addVar(vtype= GRB.CONTINUOUS, lb = 0, name = 'p2')\n",
    "p3 = model.addVar(vtype= GRB.CONTINUOUS, lb = 0, name = 'p3')\n",
    "p4 = model.addVar(vtype= GRB.CONTINUOUS, lb = 0, name = 'p4')\n",
    "p5 = model.addVar(vtype= GRB.CONTINUOUS, lb = 0, name = 'p5')\n",
    "p6 = model.addVar(vtype= GRB.CONTINUOUS, lb = 0, name = 'p6')"
   ]
  },
  {
   "cell_type": "markdown",
   "id": "a050f794",
   "metadata": {},
   "source": [
    "## Expected profit"
   ]
  },
  {
   "cell_type": "code",
   "execution_count": 54,
   "id": "a582d491",
   "metadata": {},
   "outputs": [],
   "source": [
    "EP = 1750*(p1) +700*(p2) + 1300*(p3) + 800*(p4) + 1450*(p5) + 1300*(p6)"
   ]
  },
  {
   "cell_type": "markdown",
   "id": "f1d597f8",
   "metadata": {},
   "source": [
    "## Expected start-up cost"
   ]
  },
  {
   "cell_type": "code",
   "execution_count": 55,
   "id": "81a579e8",
   "metadata": {},
   "outputs": [],
   "source": [
    "ES = 325*(1-p1) + 200*(1-p2) + 490*(1-p3) + 125*(1-p4) + 710*(1-p5) + 240*(1-p6)"
   ]
  },
  {
   "cell_type": "code",
   "execution_count": 56,
   "id": "00d15df8",
   "metadata": {},
   "outputs": [],
   "source": [
    "exp = EP - ES - 150*(x1 + x2 + x3 + x4 + x5 + x6)"
   ]
  },
  {
   "cell_type": "code",
   "execution_count": 57,
   "id": "efdc26fa",
   "metadata": {},
   "outputs": [
    {
     "name": "stdout",
     "output_type": "stream",
     "text": [
      "Changed value of parameter NonConvex to 2\n",
      "   Prev: -1  Min: -1  Max: 2  Default: -1\n"
     ]
    }
   ],
   "source": [
    "model.setObjective(exp, GRB.MAXIMIZE)\n",
    "model.params.NonConvex = 2"
   ]
  },
  {
   "cell_type": "markdown",
   "id": "10cfd831",
   "metadata": {},
   "source": [
    "## Define the contraints"
   ]
  },
  {
   "cell_type": "code",
   "execution_count": 58,
   "id": "42b2ea32",
   "metadata": {},
   "outputs": [],
   "source": [
    "engineer_availabilty = model.addConstr(x1 + x2 + x3 + x4 + x5 + x6 <= 25)"
   ]
  },
  {
   "cell_type": "code",
   "execution_count": 59,
   "id": "718a6ca3",
   "metadata": {},
   "outputs": [],
   "source": [
    "Constraint_x1 = model.addConstr(x1 == p1*(x1+1.1))\n",
    "Constraint_x2 = model.addConstr(x2 == p2*(x2+0.5))\n",
    "Constraint_x3 = model.addConstr(x3 == p3*(x3+2.5))\n",
    "Constraint_x4 = model.addConstr(x4 == p4*(x4+1.6))\n",
    "Constraint_x5 = model.addConstr(x5 == p5*(x5+2.2))\n",
    "Constraint_x6 = model.addConstr(x6 == p6*(x6+2.4))"
   ]
  },
  {
   "cell_type": "markdown",
   "id": "7fff9d5a",
   "metadata": {},
   "source": [
    "## Find the optimal solution"
   ]
  },
  {
   "cell_type": "code",
   "execution_count": 60,
   "id": "813bc0ba",
   "metadata": {},
   "outputs": [],
   "source": [
    "model.setParam('OutputFlag', 0)\n",
    "model.optimize()"
   ]
  },
  {
   "cell_type": "markdown",
   "id": "12581208",
   "metadata": {},
   "source": [
    "## Show the optimal solution"
   ]
  },
  {
   "cell_type": "code",
   "execution_count": 61,
   "id": "394d41fd",
   "metadata": {},
   "outputs": [
    {
     "data": {
      "text/plain": [
       "1396484.34"
      ]
     },
     "execution_count": 61,
     "metadata": {},
     "output_type": "execute_result"
    }
   ],
   "source": [
    "round(model.objVal, 5)*1000"
   ]
  },
  {
   "cell_type": "markdown",
   "id": "98a45151",
   "metadata": {},
   "source": [
    "## Show the optimal values for the DVs"
   ]
  },
  {
   "cell_type": "code",
   "execution_count": 62,
   "id": "2459d6ef",
   "metadata": {},
   "outputs": [
    {
     "name": "stdout",
     "output_type": "stream",
     "text": [
      "x1 = 2.8\n",
      "x2 = 1.2\n",
      "x3 = 3.0\n",
      "x4 = 1.5\n",
      "x5 = 3.4\n",
      "x6 = 2.6\n",
      "p1 = 0.7\n",
      "p2 = 0.7\n",
      "p3 = 0.5\n",
      "p4 = 0.5\n",
      "p5 = 0.6\n",
      "p6 = 0.5\n"
     ]
    }
   ],
   "source": [
    "for var in model.getVars():\n",
    "        print(var.varName, \"=\", round(var.x,1))"
   ]
  },
  {
   "cell_type": "markdown",
   "id": "189316e9",
   "metadata": {},
   "source": [
    "## P2 (b)"
   ]
  },
  {
   "cell_type": "markdown",
   "id": "67f94a5b",
   "metadata": {},
   "source": [
    "## Initiate Model"
   ]
  },
  {
   "cell_type": "code",
   "execution_count": 63,
   "id": "c6fef6f7",
   "metadata": {},
   "outputs": [],
   "source": [
    "model1 = gp.Model(\"CYCOM Corp.\")"
   ]
  },
  {
   "cell_type": "markdown",
   "id": "32fd0002",
   "metadata": {},
   "source": [
    "## Define the decision variables and the objective function"
   ]
  },
  {
   "cell_type": "code",
   "execution_count": 64,
   "id": "e1aee1e8",
   "metadata": {},
   "outputs": [],
   "source": [
    "x1 = model1.addVar(vtype= GRB.CONTINUOUS, lb = 0, name = 'x1')\n",
    "x2 = model1.addVar(vtype= GRB.CONTINUOUS, lb = 0, name = 'x2')\n",
    "x3 = model1.addVar(vtype= GRB.CONTINUOUS, lb = 0, name = 'x3')\n",
    "x4 = model1.addVar(vtype= GRB.CONTINUOUS, lb = 0, name = 'x4')\n",
    "x5 = model1.addVar(vtype= GRB.CONTINUOUS, lb = 0, name = 'x5')\n",
    "x6 = model1.addVar(vtype= GRB.CONTINUOUS, lb = 0, name = 'x6')\n",
    "\n",
    "p1 = model1.addVar(vtype= GRB.CONTINUOUS, lb = 0, name = 'p1')\n",
    "p2 = model1.addVar(vtype= GRB.CONTINUOUS, lb = 0, name = 'p2')\n",
    "p3 = model1.addVar(vtype= GRB.CONTINUOUS, lb = 0, name = 'p3')\n",
    "p4 = model1.addVar(vtype= GRB.CONTINUOUS, lb = 0, name = 'p4')\n",
    "p5 = model1.addVar(vtype= GRB.CONTINUOUS, lb = 0, name = 'p5')\n",
    "p6 = model1.addVar(vtype= GRB.CONTINUOUS, lb = 0, name = 'p6')"
   ]
  },
  {
   "cell_type": "code",
   "execution_count": 65,
   "id": "83c18704",
   "metadata": {},
   "outputs": [],
   "source": [
    "## Expected profit\n",
    "\n",
    "EP = 1750*(p1) +700*(p2) + 1300*(p3) + 800*(p4) + 1450*(p5) + 1300*(p6)\n",
    "\n",
    "## Expected start-up cost\n",
    "\n",
    "ES = 325*(1-p1) + 200*(1-p2) + 490*(1-p3) + 125*(1-p4) + 710*(1-p5) + 240*(1-p6)"
   ]
  },
  {
   "cell_type": "code",
   "execution_count": 66,
   "id": "0f55f074",
   "metadata": {},
   "outputs": [],
   "source": [
    "## Variance of contribution to profit\n",
    "\n",
    "VP = (1750+325)**2*p1*(1-p1) + (700+200)**2*p2*(1-p2) + (1300+490)**2*p3*(1-p3) + (800+125)**2*p4*(1-p4) + (1450+710)**2*p5*(1-p5) + (1300+240)**2*p6*(1-p6)"
   ]
  },
  {
   "cell_type": "code",
   "execution_count": 67,
   "id": "65b9078b",
   "metadata": {},
   "outputs": [],
   "source": [
    "exp = VP"
   ]
  },
  {
   "cell_type": "code",
   "execution_count": 68,
   "id": "ccd71d9d",
   "metadata": {},
   "outputs": [
    {
     "name": "stdout",
     "output_type": "stream",
     "text": [
      "Changed value of parameter NonConvex to 2\n",
      "   Prev: -1  Min: -1  Max: 2  Default: -1\n"
     ]
    }
   ],
   "source": [
    "model1.setObjective(exp, GRB.MINIMIZE)\n",
    "model1.params.NonConvex = 2"
   ]
  },
  {
   "cell_type": "markdown",
   "id": "5403eccc",
   "metadata": {},
   "source": [
    "## Define the contraints"
   ]
  },
  {
   "cell_type": "code",
   "execution_count": 69,
   "id": "24527b9f",
   "metadata": {},
   "outputs": [],
   "source": [
    "engineer_availabilty = model1.addConstr(x1 + x2 + x3 + x4 + x5 + x6 <= 25)"
   ]
  },
  {
   "cell_type": "code",
   "execution_count": 70,
   "id": "1d25beed",
   "metadata": {},
   "outputs": [],
   "source": [
    "min_contribution = model1.addConstr(EP - ES - 150*(x1 + x2 + x3 + x4 + x5 + x6) >= 1100)"
   ]
  },
  {
   "cell_type": "code",
   "execution_count": 71,
   "id": "9658060a",
   "metadata": {},
   "outputs": [],
   "source": [
    "Constraint_x1 = model1.addConstr(x1 == p1*(x1+1.1))\n",
    "Constraint_x2 = model1.addConstr(x2 == p2*(x2+0.5))\n",
    "Constraint_x3 = model1.addConstr(x3 == p3*(x3+2.5))\n",
    "Constraint_x4 = model1.addConstr(x4 == p4*(x4+1.6))\n",
    "Constraint_x5 = model1.addConstr(x5 == p5*(x5+2.2))\n",
    "Constraint_x6 = model1.addConstr(x6 == p6*(x6+2.4))"
   ]
  },
  {
   "cell_type": "markdown",
   "id": "29f69d95",
   "metadata": {},
   "source": [
    "## Find the optimal solution"
   ]
  },
  {
   "cell_type": "code",
   "execution_count": 72,
   "id": "bb5a8040",
   "metadata": {},
   "outputs": [],
   "source": [
    "model1.setParam('OutputFlag', 0)\n",
    "model1.optimize()"
   ]
  },
  {
   "cell_type": "markdown",
   "id": "96e829a0",
   "metadata": {},
   "source": [
    "## Show the optimal solution"
   ]
  },
  {
   "cell_type": "markdown",
   "id": "0a3a8508",
   "metadata": {},
   "source": [
    "## Recall that we now need to take the square root of the optimal variance value to get the optimal standard deviation"
   ]
  },
  {
   "cell_type": "code",
   "execution_count": 73,
   "id": "22ec7965",
   "metadata": {},
   "outputs": [
    {
     "data": {
      "text/plain": [
       "1800.36"
      ]
     },
     "execution_count": 73,
     "metadata": {},
     "output_type": "execute_result"
    }
   ],
   "source": [
    "round(((model1.objVal)**0.5),2)"
   ]
  },
  {
   "cell_type": "markdown",
   "id": "84d5567f",
   "metadata": {},
   "source": [
    "## Show the optimal values for the DVs"
   ]
  },
  {
   "cell_type": "code",
   "execution_count": 74,
   "id": "1700f89a",
   "metadata": {
    "scrolled": true
   },
   "outputs": [
    {
     "name": "stdout",
     "output_type": "stream",
     "text": [
      "x1 = 5.1\n",
      "x2 = 1.6\n",
      "x3 = 4.2\n",
      "x4 = 1.5\n",
      "x5 = 6.0\n",
      "x6 = 3.0\n",
      "p1 = 0.8\n",
      "p2 = 0.8\n",
      "p3 = 0.6\n",
      "p4 = 0.5\n",
      "p5 = 0.7\n",
      "p6 = 0.6\n"
     ]
    }
   ],
   "source": [
    "for var in model1.getVars():\n",
    "        print(var.varName, \"=\", round(var.x,1))"
   ]
  },
  {
   "cell_type": "markdown",
   "id": "bdaa4bf7",
   "metadata": {},
   "source": [
    "## END"
   ]
  }
 ],
 "metadata": {
  "kernelspec": {
   "display_name": "Python 3 (ipykernel)",
   "language": "python",
   "name": "python3"
  },
  "language_info": {
   "codemirror_mode": {
    "name": "ipython",
    "version": 3
   },
   "file_extension": ".py",
   "mimetype": "text/x-python",
   "name": "python",
   "nbconvert_exporter": "python",
   "pygments_lexer": "ipython3",
   "version": "3.8.8"
  }
 },
 "nbformat": 4,
 "nbformat_minor": 5
}
